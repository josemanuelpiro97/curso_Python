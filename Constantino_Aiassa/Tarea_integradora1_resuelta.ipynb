{
  "nbformat": 4,
  "nbformat_minor": 0,
  "metadata": {
    "colab": {
      "name": "Tarea_integradora1_resuelta.ipynb",
      "provenance": []
    },
    "kernelspec": {
      "name": "python3",
      "display_name": "Python 3"
    }
  },
  "cells": [
    {
      "cell_type": "markdown",
      "metadata": {
        "id": "FyhnHDTeT_bb",
        "colab_type": "text"
      },
      "source": [
        "# Ejercicio integrador 1\n",
        "\n",
        "## Enunciado\n",
        "\n",
        "Un operador de la represa del \"dique las viñas\" está tomando mediciones del crecimiento del agua día a día, se le proporcionó al operario un programa en el cual ira ingresando día a día los valores de crecimiento registrados(dado que en las altas cumbres está lloviendo hace días), pudiendo estar estos en un rango de 0 a 10 [metros].\n",
        "\n",
        "El programa luego de registrar las 10 mediciones, deberá sacar el total de crecimiento a lo largo de los 10 días transcurridos (lo cual deberá implementarse mediante una función escrita por ustedes, haciendo uso de la sentencia \"for\"). En caso de que el crecimiento total de los 10 días supere los 50 metros, se deberá imprimir un mensaje por pantalla que indique: \"ALERTA DE CRECIMIENTO PELIGROSO\"\n",
        "\n",
        "En caso de que las mediciones no superen los 50 metros, mostraremos el siguiente mensaje: \"CRECIMIENTO CONTROLABLE\". A continuación de dicho mensaje mostraremos por pantalla las 10 mediciones tomadas, junto con el día al que corresponde cada medicion (esto ultimo tambien debera realizarce mediante una funcion escrita por ustedes haciendo uso de la sentencia \"while\").\n"
      ]
    },
    {
      "cell_type": "markdown",
      "metadata": {
        "id": "We7nuH8kEc9Z",
        "colab_type": "text"
      },
      "source": [
        "# Lu"
      ]
    },
    {
      "cell_type": "code",
      "metadata": {
        "id": "RGBAOCUeT72E",
        "colab_type": "code",
        "colab": {}
      },
      "source": [
        "# crea una lista de indices\n",
        "Lista1 = [0, 1, 2, 3, 4, 5, 6, 7, 8, 9]\n",
        "\n",
        "#recorre la lista\n",
        "for i in Lista1:\n",
        "  Lista1[i] = float(input(\"ingresar valor de crecimiento en metros:\"))\n",
        "  print(\"el valor ingresado es:\",Lista1[i])\n",
        "  \n",
        "  while(Lista1[i] > 10 or Lista1[i] < 0):\n",
        "    print(\"ingrese un valor entre 0 y 10\")\n",
        "    Lista1[i] = float(input(\"ingresar valor de crecimiento:\"))\n",
        "\n",
        "lista = Lista1[0] + Lista1[1] + Lista1[2] + Lista1[3] + Lista1[4] + Lista1[5] + Lista1[6] + Lista1[7] + Lista1[8] + Lista1[9]\n",
        "if lista > 50:\n",
        "  print(\"ALERTA DE CRECIMIENTO PELIGROSO\")\n",
        "else:\n",
        "  print(\"CRECIMIENTO CONTROLABLE\")"
      ],
      "execution_count": null,
      "outputs": []
    },
    {
      "cell_type": "markdown",
      "metadata": {
        "id": "0HZ2GIuxHVth",
        "colab_type": "text"
      },
      "source": [
        "# ale"
      ]
    },
    {
      "cell_type": "code",
      "metadata": {
        "id": "AQ7bcVyIGHXk",
        "colab_type": "code",
        "colab": {}
      },
      "source": [
        "subtotal = 0 \n",
        "cantidad = 0 \n",
        "medicion = 0\n",
        "\n",
        "\n",
        "while(cantidad < 10):\n",
        "  medicion = float(input(\"Ingrese la medicion:\"))\n",
        "  if (medicion < 11 and medicion >= 0):\n",
        "    subtotal = subtotal + medicion\n",
        "    cantidad = cantidad + 1\n",
        "  else:\n",
        "    print()\n",
        "    print(\"Ingrese un valor menor a 10 y mayor o igual a 0!!!\")\n",
        "    print()\n",
        "\n",
        "if(subtotal > 50):\n",
        "  print()\n",
        "  print(\"El total del crecimiento es de :\",subtotal)\n",
        "  print(\"ALERTA DE CRECIMIENTO PELIGROSO\")\n",
        "else:\n",
        "  print()\n",
        "  print(\"CRECIMIENTO CONTROLABLE\")  \n"
      ],
      "execution_count": null,
      "outputs": []
    },
    {
      "cell_type": "markdown",
      "metadata": {
        "id": "OukE7dCeIHys",
        "colab_type": "text"
      },
      "source": [
        "# Juanchi"
      ]
    },
    {
      "cell_type": "code",
      "metadata": {
        "id": "vKNNwj9pIJrj",
        "colab_type": "code",
        "colab": {}
      },
      "source": [
        "#1er PARRAFO\n",
        "lluvia=[0,0,0,0,0,0,0,0,0,0]\n",
        "contador=int(0)\n",
        "bandera = bool(True)\n",
        "\n",
        "\n",
        "for i in range(0,10):\n",
        "  val=int(input(\"Ingrese un valor entre 0 y 10:\"))\n",
        "  print(\"Valor del dia\",i+1,\"es de:\",val)\n",
        "  contador=contador+val\n",
        "  lluvia[i]=val\n",
        "  \n",
        "#2do PARRAFO\n",
        "if (contador>50):\n",
        "  print(\"ALERTA DE CRECIMIENTO PELIGROSO\")\n",
        "else:\n",
        "  print(\"CRECIMIENTO CONTROLABLE\")\n",
        "\n",
        "#3er PARRAFO\n",
        "while (bandera):\n",
        " for j in range(0,10):\n",
        "   print(\"Medicion del dia :\",j+1,\"es igual a:\",lluvia[j])\n",
        " bandera=bool(False)"
      ],
      "execution_count": null,
      "outputs": []
    },
    {
      "cell_type": "markdown",
      "metadata": {
        "id": "z75DHTyHJPkv",
        "colab_type": "text"
      },
      "source": [
        "# Tino"
      ]
    },
    {
      "cell_type": "code",
      "metadata": {
        "id": "Dstij9zcIuxI",
        "colab_type": "code",
        "colab": {}
      },
      "source": [
        "mediciones = []\n",
        "for i in range(1,11):\n",
        "  medicion = 0\n",
        "  medicion = int(input('Ingrese los metros de lluvia del dia '+str(i)+':'))\n",
        "  while(medicion<0 or medicion>10):\n",
        "    medicion = int(input('No ingreso un valor entre 0 y 10. Ingrese los metros de lluvia del dia '+str(i)+':'))\n",
        "  mediciones.append(medicion)\n",
        "\n",
        "totalmetroslluvia = 0\n",
        "for i in mediciones:\n",
        "  totalmetroslluvia = totalmetroslluvia + mediciones[i]\n",
        "\n",
        "if (totalmetroslluvia >50):\n",
        "  print(\"ALERTA DE CRECIMIENTO PELIGROSO\")\n",
        "else:\n",
        "  print(\"CRECIMIENTO CONTROLABLE\")\n",
        "\n",
        "contador=0\n",
        "while (contador<10):\n",
        "  print('Medicion del dia ',contador+1,\":\",mediciones[contador])\n",
        "  contador+=1"
      ],
      "execution_count": null,
      "outputs": []
    },
    {
      "cell_type": "code",
      "metadata": {
        "id": "1I0pPbjH5Z8m",
        "colab_type": "code",
        "colab": {}
      },
      "source": [
        "# Funcion Alerta\n",
        "def alerta(mediciones):\n",
        "  totalmetroslluvia = 0\n",
        "  for i in mediciones:\n",
        "    totalmetroslluvia = totalmetroslluvia + mediciones[i]\n",
        "  if (totalmetroslluvia >50):\n",
        "    return print(\"ALERTA DE CRECIMIENTO PELIGROSO\")\n",
        "  else:\n",
        "    return print(\"CRECIMIENTO CONTROLABLE\")\n",
        "\n",
        "\n",
        "# Funcion Impresion Mediciones de cada dia\n",
        "def medicionesdeldia(mediciones):\n",
        "  #aaaaaaa#\n",
        "  contador=0\n",
        "  while(contador<10):\n",
        "    print('Medicion del dia',contador+1,\":\",mediciones[contador])\n",
        "    contador+=1\n",
        "  return \n",
        "\n",
        "\n",
        "mediciones = []\n",
        "for i in range(1,11):\n",
        "  medicion = 0\n",
        "  medicion = int(input('Ingrese los metros de lluvia del dia '+str(i)+' : '))\n",
        "  while(medicion<0 or medicion>10):\n",
        "    medicion = int(input('No ingreso un valor entre 0 y 10. Ingrese los metros de lluvia del dia '+str(i)+':'))\n",
        "  mediciones.append(medicion)\n",
        "\n",
        "alerta(mediciones)\n",
        "\n",
        "medicionesdeldia(mediciones)"
      ],
      "execution_count": null,
      "outputs": []
    }
  ]
}