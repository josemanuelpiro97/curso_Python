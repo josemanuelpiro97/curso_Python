{
 "cells": [
  {
   "cell_type": "markdown",
   "metadata": {
    "colab_type": "text",
    "id": "aiJcbdUfK3bL"
   },
   "source": [
    "---\n",
    " **Seccion Nº1 : *Nociones básicas de Python***\n",
    "--- \n",
    "---"
   ]
  },
  {
   "cell_type": "markdown",
   "metadata": {
    "colab_type": "text",
    "id": "COyML1KULgEa"
   },
   "source": [
    " Se usara el caracter reservado \"#\" para definir que la linea sera de comentario y no va a ser interpretada por el compilador\n",
    "\n",
    "**Tipos de variables:**\n",
    "\n",
    "\n",
    "\n",
    "```\n",
    "*int*       --> enteros\n",
    "\n",
    "*float*     --> numero reales\n",
    "\n",
    "*booleano*  --> variable binaria de verdadero o falso\n",
    "\n",
    "*string*    --> cadena de texto\n",
    "```\n",
    "\n",
    "**Operadores Logicos:**\n",
    "\n",
    "```\n",
    "AND       --> condicion1 \"y\" condicion2\n",
    "OR        --> condicion1 \"o\" condicion2\n",
    "```\n",
    "\n",
    "**Operadores de comparacion:**\n",
    "\n",
    "\n",
    "```\n",
    "<         --> valor1 \"menor (<) que\" valor2\n",
    ">         --> valor1 \"mayor (>) que\" valor2\n",
    "==        --> valor1 \"igual (=) que\" valor2 \n",
    ">=        --> valor1 \"mayor o igual que\" valor2\n",
    "<=        --> valor1 \"menor o igual que\" valor2\n",
    "!=        --> valor1 \"distinto (!=) que\" valor2\n",
    "```                     \n",
    "**operadores de asignacion:**\n",
    "\n",
    "\n",
    "\n",
    "```\n",
    "=         --> le asigno a variable1 el valor1 (variable1=valor1)\n",
    "```\n"
   ]
  },
  {
   "cell_type": "markdown",
   "metadata": {
    "colab_type": "text",
    "id": "lURHzvz5YsSa"
   },
   "source": [
    "**listas**"
   ]
  },
  {
   "cell_type": "markdown",
   "metadata": {
    "colab_type": "text",
    "id": "qoqdEasnYuii"
   },
   "source": [
    "```\n",
    "declaracion simple:   \n",
    "lista1 = [1, 2, 3, 4, 5]\n",
    "---------------------------------\n",
    "consulta de valor --> (primer valor 0)\n",
    "lista[indice]\n",
    "\n",
    "---------------------------------\n",
    "asignacion en indice especifico\n",
    "lista[indice] = valor\n",
    "\n",
    "```"
   ]
  },
  {
   "cell_type": "markdown",
   "metadata": {
    "colab_type": "text",
    "id": "-IDDA1dvLFCR"
   },
   "source": [
    "\n",
    "---\n",
    "---\n",
    "\n",
    "### Ejemplos\n",
    "\n"
   ]
  },
  {
   "cell_type": "code",
   "execution_count": null,
   "metadata": {
    "colab": {},
    "colab_type": "code",
    "id": "veBU_azb8XaH"
   },
   "outputs": [],
   "source": [
    "#   casteo --> indica al compilador el tipo de dato\n",
    "#   creacion de variables\n",
    "a = str(\"hola 45 + 1.8\")\n",
    "b = int(6)\n",
    "c = float(1.5) "
   ]
  },
  {
   "cell_type": "markdown",
   "metadata": {
    "colab_type": "text",
    "id": "CSO24ieCLJJO"
   },
   "source": [
    "\n",
    "\n",
    "---\n",
    "\n",
    "\n"
   ]
  },
  {
   "cell_type": "code",
   "execution_count": null,
   "metadata": {
    "colab": {},
    "colab_type": "code",
    "id": "0GnVVG3QC-AI"
   },
   "outputs": [],
   "source": [
    "# uso de operadores de comparacion\n",
    "print(b > 5)\n",
    "print(b < 5)\n",
    "print(b == 6) "
   ]
  },
  {
   "cell_type": "markdown",
   "metadata": {
    "colab_type": "text",
    "id": "cpB7SZi8LLXo"
   },
   "source": [
    "\n",
    "\n",
    "---\n",
    "\n",
    "\n",
    "\n"
   ]
  },
  {
   "cell_type": "code",
   "execution_count": null,
   "metadata": {
    "colab": {},
    "colab_type": "code",
    "id": "N_yQFrMFEJD1"
   },
   "outputs": [],
   "source": [
    "# uso de operadores logicos\n",
    "print(b > 5 and b < 0)\n",
    "print(b > 5 or b < 0)"
   ]
  },
  {
   "cell_type": "markdown",
   "metadata": {
    "colab_type": "text",
    "id": "kNeDutLRLQh_"
   },
   "source": [
    "\n",
    "\n",
    "---\n",
    "\n"
   ]
  },
  {
   "cell_type": "code",
   "execution_count": null,
   "metadata": {
    "colab": {},
    "colab_type": "code",
    "id": "i61Out8eFDmA"
   },
   "outputs": [],
   "source": [
    "#ingreso de datos --> lo que se ingresa a los parentesis es un \"PARAMETRO\"\n",
    "mensaje = \"Ingrese un numero entero\"\n",
    "# los parametros de entrada van separados con \",\"\n",
    "mensaje_entrada = 0\n",
    "mensaje_entrada = int(input(mensaje))\n",
    "print(\"valor ingresado + 5: \" , (mensaje_entrada + 5))"
   ]
  },
  {
   "cell_type": "markdown",
   "metadata": {
    "colab_type": "text",
    "id": "HhzZFIJUZvcm"
   },
   "source": [
    "---"
   ]
  },
  {
   "cell_type": "code",
   "execution_count": null,
   "metadata": {
    "colab": {},
    "colab_type": "code",
    "id": "3YrLVLIZZxFY"
   },
   "outputs": [],
   "source": [
    "# uso de listas con declaracion simple\n",
    "lista1 = [1,2,3,4,5]\n",
    "print(\"primer  lugar:  \",lista1[0])\n",
    "print(\"segundo lugar:  \",lista1[1])\n",
    "print(\"tercer  lugar:  \",lista1[2])\n",
    "print(\"cuarto  lugar:  \",lista1[3])\n",
    "print(\"quinto  lugar:  \",lista1[4])"
   ]
  },
  {
   "cell_type": "code",
   "execution_count": null,
   "metadata": {
    "colab": {},
    "colab_type": "code",
    "id": "vPt3U0IbaQIH"
   },
   "outputs": [],
   "source": [
    "# modificacion de lista existente\n",
    "lista1 = [0,0,0,0,0]\n",
    "lista1[0] = 1\n",
    "lista1[1] = 2\n",
    "lista1[2] = 3\n",
    "lista1[3] = 4\n",
    "lista1[4] = 5\n",
    "\n",
    "print(\"primer  lugar:  \",lista1[0])\n",
    "print(\"segundo lugar:  \",lista1[1])\n",
    "print(\"tercer  lugar:  \",lista1[2])\n",
    "print(\"cuarto  lugar:  \",lista1[3])\n",
    "print(\"quinto  lugar:  \",lista1[4])"
   ]
  },
  {
   "cell_type": "markdown",
   "metadata": {
    "colab_type": "text",
    "id": "j1gz8wiOLTSU"
   },
   "source": [
    "\n",
    "\n",
    "---\n",
    "\n",
    "\n",
    "\n",
    "---\n",
    "\n"
   ]
  },
  {
   "cell_type": "markdown",
   "metadata": {
    "colab_type": "text",
    "id": "dSQ4KPQTLYM6"
   },
   "source": [
    "---\n",
    " **Seccion Nº2 : *Uso de funciones Condicionales***\n",
    "--- \n",
    "---"
   ]
  },
  {
   "cell_type": "markdown",
   "metadata": {
    "colab_type": "text",
    "id": "j-UJ6FTTQtIZ"
   },
   "source": [
    "**Sintaxis de if, elif, else**"
   ]
  },
  {
   "cell_type": "markdown",
   "metadata": {
    "colab_type": "text",
    "id": "_4iik6v2QaXD"
   },
   "source": [
    "```\n",
    "if(condicion):\n",
    "  cuerpo\n",
    "  cuerpo\n",
    "  cuerpo\n",
    "elif(condicion):\n",
    "  cuerpo\n",
    "  cuerpo\n",
    "else:\n",
    "  cuerpo\n",
    "  cuerpo  \n",
    "```"
   ]
  },
  {
   "cell_type": "markdown",
   "metadata": {
    "colab_type": "text",
    "id": "2rqDcLgvQxD4"
   },
   "source": [
    "- **A TENER EN CUENTA**\n",
    "  - puedo usar sentencias \"if\" **solas**\n",
    "  - puedo usar sentencias \"if\" con **una** sentencia \"else\"\n",
    "  - puedo usar sentencia \"if\" con **el numero que quiera** de sentencias \"elif\"\n",
    "  - puedo usar sentencia \"if\" con **el numero que quiera** de sentencias \"elif\" y **un** \"else\"\n"
   ]
  },
  {
   "cell_type": "code",
   "execution_count": null,
   "metadata": {
    "colab": {},
    "colab_type": "code",
    "id": "gtCWRjCdF47D"
   },
   "outputs": [],
   "source": [
    "# 1)if                    --> \"si\"\n",
    "# 2)else                  --> \"sino\"\n",
    "# 3)elif --> (else if)    --> \"sino si\""
   ]
  },
  {
   "cell_type": "code",
   "execution_count": null,
   "metadata": {
    "colab": {},
    "colab_type": "code",
    "id": "KoVtBpsIOVln"
   },
   "outputs": [],
   "source": [
    "a=int(input(\"Ingrese el primer valor:\"))\n",
    "b=int(input(\"Ingrese el segundo valor:\"))\n",
    "print()\n",
    "\n",
    "#primer caso con uso de if y else\n",
    "print(\"Se cumple que a es igual a b?\")\n",
    "if(a == b):\n",
    "  print(\"Fue correcto\")\n",
    "  print(\"esta contemplado\") \n",
    "else:\n",
    "  print(\"Fue incorrecto\") \n",
    "  print(\"esta contemplado\")\n",
    "\n",
    "print()\n",
    "\n",
    "# segundo caso con uso de if, elif, else\n",
    "if(a == b):\n",
    "  print(\"'a' fue igual a 'b'\")\n",
    "elif(a < b):\n",
    "  print(\"'a' fue menor a 'b'\")\n",
    "else:\n",
    "  print(\"'a' fue mayor a 'b'\")   \n",
    "\n",
    "print()\n",
    "\n",
    "#tercer caso con uso de if, elif, else y ademas and y or\n",
    "if(a == b and a > 0):\n",
    "  print(\"'a' es igual a 'b' y ademas es positivo\")\n",
    "elif(a == b and a < 0):\n",
    "  print(\"'a' es igual a 'b' y ademas es negativo\")  \n",
    "else:\n",
    "  print(\"los valores de a y b respectivamente son: a-->\",a,\", b-->\",b)  "
   ]
  },
  {
   "cell_type": "markdown",
   "metadata": {
    "colab_type": "text",
    "id": "iHuWDEB0IBi8"
   },
   "source": [
    "---\n",
    " **Seccion Nº3 : *Bucle \"While\" y bucle \"for\"***\n",
    "--- \n",
    "---"
   ]
  },
  {
   "cell_type": "markdown",
   "metadata": {
    "colab_type": "text",
    "id": "j-MdZCXUIPIe"
   },
   "source": [
    "**Sintaxis de bucle \"while\":**\n",
    "\n",
    "\n",
    "\n",
    "```\n",
    "while(condicion):\n",
    "  cuerpo\n",
    "  cuerpo\n",
    "  cuerpo\n",
    "```"
   ]
  },
  {
   "cell_type": "code",
   "execution_count": null,
   "metadata": {
    "colab": {
     "base_uri": "https://localhost:8080/",
     "height": 37
    },
    "colab_type": "code",
    "id": "PzFUp18UIMQ8",
    "outputId": "346fe7c4-4527-44b0-dbbe-2d7941349e53"
   },
   "outputs": [
    {
     "name": "stdout",
     "output_type": "stream",
     "text": [
      "Termino el while\n"
     ]
    }
   ],
   "source": [
    "rangoMax = 10\n",
    "iterador = 0\n",
    "\n",
    "while(iterador < rangoMax):\n",
    "  print(\"El iterador vale: \",iterador)\n",
    "  iterador = iterador + 1\n",
    "print(\"Termino el while\")  "
   ]
  },
  {
   "cell_type": "code",
   "execution_count": null,
   "metadata": {
    "colab": {},
    "colab_type": "code",
    "id": "XcXom4WzrwEB"
   },
   "outputs": [],
   "source": [
    "bandera = bool(True)\n",
    "control = 0\n",
    "ejemplo = 0\n",
    "\n",
    "while(bandera):\n",
    "  control = control +1\n",
    "  if(control > 10):\n",
    "    bandera = bool(False)\n",
    "    ejemplo = 1   \n",
    "  print(ejemplo)\n",
    "print(ejemplo)    "
   ]
  },
  {
   "cell_type": "markdown",
   "metadata": {
    "colab_type": "text",
    "id": "pVVlSufpJIMA"
   },
   "source": [
    "Error frecuente:\n",
    "\n",
    "- Uno de los errores mas comunes es crear un bucle infinito, este sucedera cuando la condicion del while nunca sea incorrecta, de este modo siempre nos quedaremos dentro de nuestro bucle infinito \n",
    "\n",
    "```\n",
    "i = 0\n",
    "j = 1\n",
    "while(i < j):\n",
    "  print(\"hay bucle infinito)\n",
    "```\n",
    "Esto producira un fallo inminente del programa "
   ]
  },
  {
   "cell_type": "markdown",
   "metadata": {
    "colab_type": "text",
    "id": "yjfIJFliKfUz"
   },
   "source": [
    "---\n",
    "**Sintaxis de bucle \"for\":**\n",
    "\n",
    "\n",
    "\n",
    "- variante 1 (uso de la funcion range,)\n",
    "```\n",
    "for (variable) in range(a,b):\n",
    "   cuerpo\n",
    "   cuerpo\n",
    "   cuerpo\n",
    "```\n",
    "aqui el primer parametro (a) sera el inicio y (b-1) sera el fin\n",
    "\n",
    "\n",
    "- variante 2(uso de listas)\n",
    "```\n",
    "listaColores = [\"azul\", \"rojo\", \"verde\"]\n",
    "for (variable) in listaColores:\n",
    "    print(variable)\n",
    "```\n",
    "aqui la variable tomara un color en cada iteracion\n",
    "\n",
    "\n",
    "- variante 3(uso de tupla)\n",
    "```\n",
    "tuplaNombres = ('jose', 'gian', 'tulo', 'chon')\n",
    "for(variable) in tuplaNombres:\n",
    "    print(variable)\n",
    "```\n",
    "aqui la variable tomara un nombre en cada iteracion\n",
    "\n"
   ]
  },
  {
   "cell_type": "code",
   "execution_count": null,
   "metadata": {
    "colab": {
     "base_uri": "https://localhost:8080/",
     "height": 257
    },
    "colab_type": "code",
    "id": "HkDoHhpsKco4",
    "outputId": "d926fdde-0ae0-419b-cee9-dc5c15dda5f4"
   },
   "outputs": [
    {
     "name": "stdout",
     "output_type": "stream",
     "text": [
      "previo\n",
      "la variable i toma el valor:  0\n",
      "la variable i toma el valor:  1\n",
      "la variable i toma el valor:  2\n",
      "la variable i toma el valor:  3\n",
      "la variable i toma el valor:  4\n",
      "la variable i toma el valor:  5\n",
      "la variable i toma el valor:  6\n",
      "la variable i toma el valor:  7\n",
      "la variable i toma el valor:  8\n",
      "la variable i toma el valor:  9\n",
      "posterior\n"
     ]
    }
   ],
   "source": [
    "# variante 1:\n",
    "print(\"previo\")\n",
    "for i in range(0,10):\n",
    "  print(\"la variable i toma el valor: \",i)\n",
    "print(\"posterior\")  "
   ]
  },
  {
   "cell_type": "code",
   "execution_count": null,
   "metadata": {
    "colab": {
     "base_uri": "https://localhost:8080/",
     "height": 97
    },
    "colab_type": "code",
    "id": "dSpCC99oO8ms",
    "outputId": "0b5a7a11-c1b9-45d1-e361-d3e4ee82b7bf"
   },
   "outputs": [
    {
     "name": "stdout",
     "output_type": "stream",
     "text": [
      "la variable color toma el valor:  azul\n",
      "la variable color toma el valor:  rojo\n",
      "la variable color toma el valor:  verde\n",
      "la variable color toma el valor:  rosa\n"
     ]
    }
   ],
   "source": [
    "#variante 2:\n",
    "listaColores = [\"azul\", \"rojo\", \"verde\"]\n",
    "for color in listaColores:\n",
    "  print(\"la variable color toma el valor: \",color)"
   ]
  },
  {
   "cell_type": "code",
   "execution_count": null,
   "metadata": {
    "colab": {
     "base_uri": "https://localhost:8080/",
     "height": 97
    },
    "colab_type": "code",
    "id": "0f0K3JmwPHg2",
    "outputId": "a5f8139b-8fdc-415a-b18c-8c778806952b"
   },
   "outputs": [
    {
     "name": "stdout",
     "output_type": "stream",
     "text": [
      "la variable nombre toma el valor:  jose\n",
      "la variable nombre toma el valor:  gian\n",
      "la variable nombre toma el valor:  tulo\n",
      "la variable nombre toma el valor:  chon\n"
     ]
    }
   ],
   "source": [
    "#variable 3:\n",
    "tuplaNombres = ('jose', 'gian', 'tulo', 'chon')\n",
    "for nombre in tuplaNombres:\n",
    "  print(\"la variable nombre toma el valor: \", nombre)"
   ]
  },
  {
   "cell_type": "markdown",
   "metadata": {
    "colab_type": "text",
    "id": "iejNOPVpLDEe"
   },
   "source": [
    "---\n",
    "\n",
    "# **Seccion N°4 : Funciones**\n",
    "\n",
    "---"
   ]
  },
  {
   "cell_type": "markdown",
   "metadata": {
    "colab_type": "text",
    "id": "UEzZ_1sDLW57"
   },
   "source": [
    "- Las funciones sirven para individualizar bloques de código que realizan funciones específicas, y en mayor medida, repetitivamente\n",
    "\n"
   ]
  },
  {
   "cell_type": "markdown",
   "metadata": {
    "colab_type": "text",
    "id": "zDnYKMikNMN-"
   },
   "source": [
    "```\n",
    "def nombre_de_funcion(param1, param2, param3):\n",
    "  cuerpo\n",
    "  cuerpo\n",
    "  cuerpo\n",
    "\n",
    "  return valor_a_retornar\n",
    "```"
   ]
  },
  {
   "cell_type": "markdown",
   "metadata": {
    "colab_type": "text",
    "id": "XcOr94GhO3t2"
   },
   "source": [
    "---"
   ]
  },
  {
   "cell_type": "code",
   "execution_count": 1,
   "metadata": {
    "colab": {},
    "colab_type": "code",
    "id": "djkiqrlkLBRn"
   },
   "outputs": [],
   "source": [
    "#ejemplo de funcion simple\n",
    "def sumador(a, b):\n",
    "  resultado = a+b\n",
    "\n",
    "  return resultado"
   ]
  },
  {
   "cell_type": "code",
   "execution_count": null,
   "metadata": {
    "colab": {},
    "colab_type": "code",
    "id": "Af7wj6F4NsL0"
   },
   "outputs": [],
   "source": [
    "val_1 = int(input(\"ingrese un valor\"))\n",
    "val_2 = int(input(\"ingrese otro valor\"))\n",
    "\n",
    "print(\"la suma de estos valores es: \", sumador(val_1, val_2))"
   ]
  },
  {
   "cell_type": "markdown",
   "metadata": {
    "colab_type": "text",
    "id": "HOE5Ea9cO2Cr"
   },
   "source": [
    "---"
   ]
  },
  {
   "cell_type": "code",
   "execution_count": 5,
   "metadata": {
    "colab": {},
    "colab_type": "code",
    "id": "NPf4F8xrN83A"
   },
   "outputs": [],
   "source": [
    "#ejemplo de funcion con descripcion\n",
    "def restador(c, d):\n",
    "  \"\"\" Aqui va la descripcion de la funcion \"\"\"\n",
    "  resultado = c-d\n",
    "\n",
    "  return resultado"
   ]
  },
  {
   "cell_type": "code",
   "execution_count": null,
   "metadata": {
    "colab": {},
    "colab_type": "code",
    "id": "1Kh1rTnFObs3"
   },
   "outputs": [],
   "source": [
    "val_1 = int(input(\"ingrese un valor\"))\n",
    "val_2 = int(input(\"ingrese otro valor\"))\n",
    "\n",
    "print(\"la resta de los valores ingresados es:\", restador(val_1, val_2))"
   ]
  },
  {
   "cell_type": "markdown",
   "metadata": {
    "colab_type": "text",
    "id": "bWmZ-JSUPMtQ"
   },
   "source": [
    "---"
   ]
  },
  {
   "cell_type": "code",
   "execution_count": 7,
   "metadata": {
    "colab": {},
    "colab_type": "code",
    "id": "BJlyFbNFOzi1"
   },
   "outputs": [],
   "source": [
    "# ejemplo de funcion sin retorno\n",
    "def mostrador_de_mensaje(mensaje):\n",
    "  print(mensaje)"
   ]
  },
  {
   "cell_type": "code",
   "execution_count": null,
   "metadata": {
    "colab": {},
    "colab_type": "code",
    "id": "ccRxhum8PDr_"
   },
   "outputs": [],
   "source": [
    "mensaje = \"el mensaje que quiero que muestre mi funncion\"\n",
    "mostrador_de_mensaje(mensaje)"
   ]
  },
  {
   "cell_type": "markdown",
   "metadata": {
    "colab_type": "text",
    "id": "6WoxTMGnPPhl"
   },
   "source": [
    "---\n"
   ]
  },
  {
   "cell_type": "code",
   "execution_count": 13,
   "metadata": {
    "colab": {},
    "colab_type": "code",
    "id": "u2AMXzqmPK0k"
   },
   "outputs": [],
   "source": [
    "#ejemplo con mas de un retorno\n",
    "def suma_resta(a, b):\n",
    "  resultado_suma = a+b\n",
    "  resultado_resta = a-b\n",
    "  return resultado_suma, resultado_resta"
   ]
  },
  {
   "cell_type": "code",
   "execution_count": null,
   "metadata": {
    "colab": {},
    "colab_type": "code",
    "id": "iLEGMR-uPba2"
   },
   "outputs": [],
   "source": [
    "val1 = int(input(\"ingrese un valor\"))\n",
    "val2 = int(input(\"ingrese otro valor\"))\n",
    "\n",
    "suma, resta = suma_resta(val1, val2)\n",
    "print(\"la suma de los valores ingresado es: \",suma, \"la resta de los valores ingresados es: \", resta)"
   ]
  },
  {
   "cell_type": "code",
   "execution_count": null,
   "metadata": {
    "colab": {},
    "colab_type": "code",
    "id": "ow64k3MRP2OF"
   },
   "outputs": [],
   "source": []
  }
 ],
 "metadata": {
  "colab": {
   "collapsed_sections": [
    "aiJcbdUfK3bL",
    "iHuWDEB0IBi8",
    "iejNOPVpLDEe"
   ],
   "name": "Primera parte.ipynb",
   "provenance": []
  },
  "kernelspec": {
   "display_name": "Python 3",
   "language": "python",
   "name": "python3"
  },
  "language_info": {
   "codemirror_mode": {
    "name": "ipython",
    "version": 3
   },
   "file_extension": ".py",
   "mimetype": "text/x-python",
   "name": "python",
   "nbconvert_exporter": "python",
   "pygments_lexer": "ipython3",
   "version": "3.8.3"
  }
 },
 "nbformat": 4,
 "nbformat_minor": 1
}
