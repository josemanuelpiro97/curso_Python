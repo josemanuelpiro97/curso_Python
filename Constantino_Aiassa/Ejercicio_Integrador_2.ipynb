{
  "nbformat": 4,
  "nbformat_minor": 0,
  "metadata": {
    "colab": {
      "name": "Ejercicio Integrador 2.ipynb",
      "provenance": []
    },
    "kernelspec": {
      "name": "python3",
      "display_name": "Python 3"
    }
  },
  "cells": [
    {
      "cell_type": "markdown",
      "metadata": {
        "id": "l-g8L0yb69KH",
        "colab_type": "text"
      },
      "source": [
        "1) Ejercicio 1\n",
        "\n",
        "Genere una lista (llamada \"A\") de la cantidad de elementos que ustedes quieran (UTILICE LA LIBRERÍA NUMPY).\n",
        "\n",
        "Realice una función que acomode los valores de esta lista de manera descendiente, o de manera ascendente dependiendo de un parámetro \"flag\" que indicara cual de los dos ordenamientos realizar\n",
        "\n",
        "Genere una lista (llamada \"B\") de la misma cantidad de elementos que \"A\", pero estos elementos deberán ser aleatorios (no utilice random, busque resolverlo con numpy)\n",
        "\n",
        "Luego de tener los dos arreglos generados, realice una función que reciba estas dos listas como parámetros de entrada. Esta función deberá recorrer las dos listas que recibe revisando que valores contiene dentro, y luego en una nueva lista (llamada \"C\") ira aumentando en 1 cada ves que encuentre un valor equivalente al index que aumentara. Por ultimo retorne esta lista generada\n",
        "\n",
        "Ej: si la lista A = [1,3,3,6] y B=[1,1,2,2] entonces C=[0,3,2,2,0,0,1]\n",
        "Con esta lista \"C\" realice un gráfico de barras que refleje las veces que se han repetido los valores en A y B.\n",
        "\n"
      ]
    },
    {
      "cell_type": "code",
      "metadata": {
        "id": "93ZMNGbO_Avi",
        "colab_type": "code",
        "colab": {
          "base_uri": "https://localhost:8080/",
          "height": 610
        },
        "outputId": "fcf27070-eb62-476c-e7a3-0debc8e77ebc"
      },
      "source": [
        "import numpy as np\n",
        "import matplotlib.pyplot as plt\n",
        "\n",
        "cantidad_elementos=int(input(\"Ingrese la longitud de la lista 'A':\"))\n",
        "\n",
        "################################################################################\n",
        "\n",
        "#arma una lista A del tamaño ingresado anteriormente con valores entre 0 y 9\n",
        "#convierte la lista a un array A\n",
        "A = []\n",
        "for i in range(0,cantidad_elementos):\n",
        "  valor = int (input('Ingrese un valor entero entre 0 y 9: '))\n",
        "  A.append(valor)\n",
        "A = np.array(A)\n",
        "#RESOLVER CON NUMPY\n",
        "################################################################################\n",
        "\n",
        "################################################################################\n",
        "#toma la array ingresada junto con una bandera, en caso verdadero lo ordena de\n",
        "#forma ascendencte, en caso de que sea falso lo ordena de forma descendiente\n",
        "#devuelve el array\n",
        "'''def Ordenar(A,flag):\n",
        "  if flag is True:\n",
        "    A = np.sort(A)\n",
        "  else:\n",
        "    #A = np.sort(A)[::-1]\n",
        "    A = np.sort(A)\n",
        "    B = A.copy()\n",
        "    for i in range(0,cantidad_elementos):\n",
        "      A[i] = B[cantidad_elementos-1-i]\n",
        "  return A'''\n",
        "\n",
        "def Ordenar(A,flag):\n",
        "  if flag is True:\n",
        "    for i in range(0,cantidad_elementos-1):\n",
        "      for i in range(0,cantidad_elementos-1):\n",
        "        if (A[i]>A[i+1]):\n",
        "          x1 = A[i]\n",
        "          x2 = A[i+1]\n",
        "          A[i] = x2\n",
        "          A[i+1] = x1\n",
        "  else:\n",
        "    for i in range(0,cantidad_elementos-1):\n",
        "      for i in range(0,cantidad_elementos-1):\n",
        "        if (A[i]<A[i+1]):\n",
        "          x1 = A[i]\n",
        "          x2 = A[i+1]\n",
        "          A[i] = x2\n",
        "          A[i+1] = x1\n",
        "\n",
        "  return A\n",
        "################################################################################\n",
        "\n",
        "#crea un array B del mismo tamaño que A pero con numeros aleatorios entre 0 y 9\n",
        "B = np.random.randint(0,10,cantidad_elementos)\n",
        "\n",
        "\n",
        "#encuentra el valor mas grande entre A y B para crear un array C en el que el valor\n",
        "#de cada subindice va a ser la cantidad de veces que se repitio ese valor tanto en\n",
        "#A como B y retorna C\n",
        "def Recorrer(A,B):\n",
        "  valorMaxA = A.max()\n",
        "  valorMaxB = B.max()\n",
        "  if (valorMaxA>=valorMaxB):\n",
        "    valorMax = valorMaxA\n",
        "    C = np.zeros(valorMaxA+1)\n",
        "  else:\n",
        "    valorMax = valorMaxB\n",
        "    C = np.zeros(valorMaxB+1)\n",
        "  for i in A:\n",
        "    C[i]+=1\n",
        "  for j in B:\n",
        "    C[j]+=1\n",
        "  return C\n",
        "\n",
        "print(A)\n",
        "#da a elegir que elegir la forma en la que se va a ordenar\n",
        "flag =int (input('Ingrese 1 para ordenar de menor a mayor o 2 de mayor a menor: '))\n",
        "escape = 0\n",
        "while (escape==0):\n",
        "  if (flag == 1):\n",
        "    A = Ordenar(A,True)\n",
        "    escape+=1\n",
        "  elif (flag == 2):\n",
        "    A = Ordenar (A,False)\n",
        "    escape+=1\n",
        "  else:\n",
        "    flag =int (input('Vuelva a ingresar, un valor 1 para ordenar de menor a mayor o 2 de mayor a menor: '))\n",
        "  \n",
        "\n",
        "C = Recorrer(A,B)\n",
        "print(A)\n",
        "print(C)\n",
        "\n",
        "#se crea un array para graficar el eje x\n",
        "Y = np.arange(0,len(C),1)\n",
        "\n",
        "#grafico de barras\n",
        "plt.bar(Y,height=C)\n",
        "plt.xticks(Y)\n",
        "\n"
      ],
      "execution_count": null,
      "outputs": [
        {
          "output_type": "stream",
          "text": [
            "Ingrese la longitud de la lista 'A':5\n",
            "Ingrese un valor entero entre 0 y 9: 1\n",
            "Ingrese un valor entero entre 0 y 9: 2\n",
            "Ingrese un valor entero entre 0 y 9: 3\n",
            "Ingrese un valor entero entre 0 y 9: 4\n",
            "Ingrese un valor entero entre 0 y 9: 5\n",
            "[1 2 3 4 5]\n",
            "Ingrese 1 para ordenar de menor a mayor o 2 de mayor a menor2\n",
            "[5 4 3 2 1]\n",
            "[1. 2. 1. 1. 3. 1. 0. 1.]\n"
          ],
          "name": "stdout"
        },
        {
          "output_type": "execute_result",
          "data": {
            "text/plain": [
              "([<matplotlib.axis.XTick at 0x7f42aa4730f0>,\n",
              "  <matplotlib.axis.XTick at 0x7f42aa4730b8>,\n",
              "  <matplotlib.axis.XTick at 0x7f42aa5d7cc0>,\n",
              "  <matplotlib.axis.XTick at 0x7f42aa4ae0b8>,\n",
              "  <matplotlib.axis.XTick at 0x7f42aa4ae4e0>,\n",
              "  <matplotlib.axis.XTick at 0x7f42aa4ae978>,\n",
              "  <matplotlib.axis.XTick at 0x7f42aa4aee10>,\n",
              "  <matplotlib.axis.XTick at 0x7f42aa4352e8>],\n",
              " <a list of 8 Text major ticklabel objects>)"
            ]
          },
          "metadata": {
            "tags": []
          },
          "execution_count": 6
        },
        {
          "output_type": "display_data",
          "data": {
            "image/png": "[encoded data removed]",
            "text/plain": [
              "<Figure size 432x288 with 1 Axes>"
            ]
          },
          "metadata": {
            "tags": [],
            "needs_background": "light"
          }
        }
      ]
    },
    {
      "cell_type": "code",
      "metadata": {
        "id": "zX679xgfxdQL",
        "colab_type": "code",
        "colab": {}
      },
      "source": [
        "adadadaada"
      ],
      "execution_count": null,
      "outputs": []
    },
    {
      "cell_type": "markdown",
      "metadata": {
        "id": "swRIS7kk-nnV",
        "colab_type": "text"
      },
      "source": [
        "2) Ejercicio2 (para este punto use la libreria pandas)\n",
        "\n",
        "Cree una tabla de 3 columnas por 10 filas\n",
        "\n",
        "Ingrese por teclado 3 títulos para el cabecera de las 3 columnas\n",
        "\n",
        "Luego realice una función que reciba dicha tabla y que rellene las 3 columnas con valores aleatorios (de entre 3 y 17). \n",
        "\n",
        "Por ultimo retorne la tabla rellenada\n",
        "\n",
        "Luego realice una función que reciba esta tabla rellenada y en aquellos lugares donde el numero es mayor a 9 reemplace los valores por la palabra \"null\"\n",
        "\n",
        "Por ultimo realice una función que reciba la tabla con los valores modificados , un flag que puede ser (1,2 o 3) y un tercer valor llamado \"buscado\".\n",
        "si el flag es 1 la función deberá retornar la cantidad de nulls en la tabla\n",
        "si el flag es 2 la función deberá retornar la suma total de los valores dentro de la tabla\n",
        "si el flag es 3 la función tendrá en cuenta el ultimo parámetro(\"buscado\") y retornara la cantidad de este numero que se encuentre en la tabla."
      ]
    },
    {
      "cell_type": "code",
      "metadata": {
        "id": "R6uCWiGOSCnQ",
        "colab_type": "code",
        "colab": {
          "base_uri": "https://localhost:8080/",
          "height": 854
        },
        "outputId": "a3ce0451-c4ce-4f01-9c0c-a61abb454975"
      },
      "source": [
        "import pandas as pd\n",
        "import numpy as np\n",
        "from numpy.random import randn\n",
        "import random\n",
        "\n",
        "# crea una lista de 3 listas, con los valores en 0  y despues crea una tabla con\n",
        "# la lista\n",
        "p = []\n",
        "for i in range(10):\n",
        "  r = []\n",
        "  for j in range(3):\n",
        "    r.append(0)\n",
        "  p.append(r)\n",
        "tabla = pd.DataFrame(p)\n",
        "\n",
        "# pide los 3 titulos de las columnas y las asigna a una lista que despues se \n",
        "#asignan como las columnas de la tabla\n",
        "titulos = []\n",
        "for i in range(0,3):\n",
        "  nombreTitulo = input('Ingrese el Titulo de la columna:')\n",
        "  titulos.append(nombreTitulo)\n",
        "tabla.set_axis(titulos,axis=1,inplace=True)\n",
        "\n",
        "#recorre cada fila de la tabla y le asigna un valor aleatorio entre 3 y 18 y\n",
        "#devuelve la lista\n",
        "def valoresAleatorios(listita):\n",
        "  for i in range(0,10):\n",
        "    listita[i] = random.randint(3,18)\n",
        "  return listita\n",
        "\n",
        "#Recorre cada columna y a cada valor mayor o igual a 9 que encuentra lo reemplaza\n",
        "#con un string null\n",
        "def valoresNull(listita):\n",
        "  for i in range(0,10):\n",
        "    if (listita[i]>=9):\n",
        "      listita[i] = 'null'\n",
        "  return listita\n",
        "\n",
        "\n",
        "tabla2 = tabla.apply(lambda x: valoresAleatorios(x))\n",
        "print(tabla2)\n",
        "tabla3 = tabla2.apply(lambda x: valoresNull(x))\n",
        "print(tabla3)\n",
        "\n",
        "#Una funcion que pide una tabla, unvalor entre 1 y 3 y un valor a buscar. Si el \n",
        "# valor es 1, cuenta la cantidad de 'nulls' que hay en la tabla. Si el valor es \n",
        "#2, suma todos los valores de la tabla y en caso de ser 3, cuenta la cantidad de\n",
        "#veces que aparece el valor buscado  \n",
        "def busquedaValores(tabla,bandera,buscado):\n",
        "  cantNulls = 0\n",
        "  sumaTotal = 0\n",
        "  contadorNum = 0\n",
        "  if (bandera==1):\n",
        "    for i in range(0,10):\n",
        "      for j in range(0,3):\n",
        "        if (tabla.iloc[i][j]=='null'):\n",
        "          cantNulls+=1 \n",
        "    return cantNulls\n",
        "  elif (bandera==2):\n",
        "    for i in range(0,10):\n",
        "      for j in range(0,3):\n",
        "        if (tabla.iloc[i][j]!='null'):\n",
        "          sumaTotal+=tabla.iloc[i][j]  \n",
        "    return sumaTotal\n",
        "  elif (bandera==3):\n",
        "    for i in range(0,3):\n",
        "      contadorNum+=(sum(tabla[titulos[i]]==buscado))\n",
        "    return contadorNum\n",
        "\n",
        "valoradevolver = busquedaValores(tabla3,3,4)\n",
        "print(valoradevolver)\n"
      ],
      "execution_count": null,
      "outputs": [
        {
          "output_type": "stream",
          "text": [
            "Ingrese el Titulo de la columna:a\n",
            "Ingrese el Titulo de la columna:s\n",
            "Ingrese el Titulo de la columna:d\n",
            "    a   s   d\n",
            "0   6  10  16\n",
            "1  12  14   4\n",
            "2  13  10   4\n",
            "3  12   5  12\n",
            "4   9  17  17\n",
            "5  15  12  11\n",
            "6  15   7  17\n",
            "7  10  16   3\n",
            "8  14  13  15\n",
            "9   8   6  15\n",
            "      a     s     d\n",
            "0     6  null  null\n",
            "1  null  null     4\n",
            "2  null  null     4\n",
            "3  null     5  null\n",
            "4  null  null  null\n",
            "5  null  null  null\n",
            "6  null     7  null\n",
            "7  null  null     3\n",
            "8  null  null  null\n",
            "9     8     6  null\n",
            "0     True\n",
            "1     True\n",
            "2     True\n",
            "3    False\n",
            "4     True\n",
            "5     True\n",
            "6    False\n",
            "7     True\n",
            "8     True\n",
            "9    False\n",
            "Name: s, dtype: bool\n",
            "2\n"
          ],
          "name": "stdout"
        },
        {
          "output_type": "stream",
          "text": [
            "/usr/local/lib/python3.6/dist-packages/ipykernel_launcher.py:36: SettingWithCopyWarning: \n",
            "A value is trying to be set on a copy of a slice from a DataFrame\n",
            "\n",
            "See the caveats in the documentation: https://pandas.pydata.org/pandas-docs/stable/user_guide/indexing.html#returning-a-view-versus-a-copy\n",
            "/usr/local/lib/python3.6/dist-packages/pandas/core/indexing.py:671: SettingWithCopyWarning: \n",
            "A value is trying to be set on a copy of a slice from a DataFrame\n",
            "\n",
            "See the caveats in the documentation: https://pandas.pydata.org/pandas-docs/stable/user_guide/indexing.html#returning-a-view-versus-a-copy\n",
            "  self._setitem_with_indexer(indexer, value)\n"
          ],
          "name": "stderr"
        }
      ]
    },
    {
      "cell_type": "code",
      "metadata": {
        "id": "ZVujx37rzPha",
        "colab_type": "code",
        "colab": {}
      },
      "source": [
        "    '''elif (bandera==3):\n",
        "    for i in range(0,3):\n",
        "      contadorNum+=tabla[titulos[i]].value_counts()[buscado]\n",
        "    return contadorNum'''\n",
        "elif (bandera==3):\n",
        "    for i in range(0,10):    \n",
        "      for j in range(0,3):\n",
        "        if (tabla.iloc[i][j]== buscado):\n",
        "          contadorNum+=1    \n",
        "  return contadorNum'''"
      ],
      "execution_count": null,
      "outputs": []
    }
  ]
}