{
  "nbformat": 4,
  "nbformat_minor": 0,
  "metadata": {
    "colab": {
      "name": "Tarea_integradora1_resueltafinal.ipynb",
      "provenance": []
    },
    "kernelspec": {
      "name": "python3",
      "display_name": "Python 3"
    }
  },
  "cells": [
    {
      "cell_type": "markdown",
      "metadata": {
        "id": "z75DHTyHJPkv",
        "colab_type": "text"
      },
      "source": [
        "# Tino"
      ]
    },
    {
      "cell_type": "markdown",
      "metadata": {
        "id": "cXAF4NbTTBEn",
        "colab_type": "text"
      },
      "source": [
        "Un operador de la represa del \"dique las viñas\" está tomando mediciones del crecimiento del agua día a día, se le proporcionó al operario un programa en el cual ira ingresando día a día los valores de crecimiento registrados(dado que en las altas cumbres está lloviendo hace días), pudiendo estar estos en un rango de 0 a 10 [metros].\n",
        "\n",
        "Al momento de iniciar la toma de mediciones el jefe de la represa le indica cuantas mediciones tomar(por lo que en primer instancia la lsta debera estar vacia, y deberan usar la funcion \"append()\")\n",
        "\n",
        "El programa luego de registrar las mediciones especificadas, deberá sacar el total de crecimiento a lo largo de los días transcurridos (lo cual deberá implementarse mediante una función escrita por ustedes, haciendo uso de la sentencia \"for\"). En caso de que el crecimiento total de los días supere los 50 metros, se deberá imprimir un mensaje por pantalla que indique: \"ALERTA DE CRECIMIENTO PELIGROSO\" (AQUI DEBERAN HACES USO DE LA FUNCION BUILT-IN \"len()\")\n",
        "\n",
        "En caso de que las mediciones no superen los 50 metros, mostraremos el siguiente mensaje: \"CRECIMIENTO CONTROLABLE\". A continuación de dicho mensaje mostraremos por pantalla las 10 mediciones tomadas, junto con el día al que corresponde cada medicion (esto ultimo tambien debera realizarce mediante una funcion escrita por ustedes haciendo uso de la sentencia \"while\").(AQUI DEBERAN HACES USO DE LA FUNCION BUILT-IN \"len()\")\n",
        "\n",
        "Luego de terminado el ejercico anterior mostrar de la lista generada un valor aleatorio (se debera usar la libreria \"random\" de pthyton)\n",
        "\n",
        "Por ultimo Se debera generar una grafica que refleje como fue el crecimiento de agua dia a dia (se debera usar la libreria \"matplotlib.pyplot\", en particular el metodo \"plot\")"
      ]
    },
    {
      "cell_type": "code",
      "metadata": {
        "id": "uUQuXsNHS_K0",
        "colab_type": "code",
        "colab": {
          "base_uri": "https://localhost:8080/",
          "height": 975
        },
        "outputId": "4745a120-443a-49bf-9595-256c1f2768e5"
      },
      "source": [
        "import random as rd\n",
        "import matplotlib.pyplot as plt\n",
        "import pandas as pd\n",
        "\n",
        "cantidad_mediciones = int(input('Ingrese la cantidad de mediciones a tomar: '))\n",
        "print('')\n",
        "\n",
        "# Funcion Impresion Mediciones de cada dia\n",
        "def mediciones_del_dia(mediciones):\n",
        "  contador=0\n",
        "  while (contador<cantidad_mediciones):\n",
        "    print('Medicion del dia',contador+1,\":\",mediciones[contador])\n",
        "    contador+=1 \n",
        "\n",
        "# Funcion Alerta\n",
        "def alerta(mediciones):\n",
        "  totalmetroslluvia = 0\n",
        "  a = len(mediciones)\n",
        "  for i in range(0,a):\n",
        "    totalmetroslluvia = totalmetroslluvia + mediciones[i]\n",
        "  if (totalmetroslluvia >50):\n",
        "    print('')\n",
        "    print(\"ALERTA DE CRECIMIENTO PELIGROSO\")\n",
        "    print('')\n",
        "  else:\n",
        "    print('')\n",
        "    print(\"CRECIMIENTO CONTROLABLE\")\n",
        "    mediciones_del_dia(mediciones)\n",
        "    print('')\n",
        "    \n",
        "\n",
        "mediciones = []\n",
        "for i in range(0,cantidad_mediciones):\n",
        "  medicion = 0\n",
        "  medicion = int(input('Ingrese los metros de lluvia del dia '+str(i+1)+' : '))\n",
        "  while(medicion<0 or medicion>10):\n",
        "    medicion = int(input('No ingreso un valor entre 0 y 10. Ingrese los metros de lluvia del dia '+str(i+1)+': '))\n",
        "  mediciones.append(medicion)\n",
        "\n",
        "alerta(mediciones)\n",
        "\n",
        "num_aleat = rd.randint(1,cantidad_mediciones)\n",
        "print('Los metros de lluvia del dia ',num_aleat, ': ', mediciones[num_aleat-1])\n",
        "print('')\n",
        "\n",
        "lluvia_acumulada = []\n",
        "acumulado = 0\n",
        "limite = []\n",
        "for i in mediciones:\n",
        "  acumulado = acumulado + i\n",
        "  lluvia_acumulada.append(acumulado)\n",
        "  limite.append(50)\n",
        "\n",
        "eje_x = range(0,cantidad_mediciones)\n",
        "\n",
        "plt.plot(eje_x,mediciones, color='blue', marker='s', linestyle='dotted', linewidth=3, markersize=10)\n",
        "plt.plot(eje_x,lluvia_acumulada,color='green',linestyle='dashed', linewidth=3)\n",
        "plt.plot(eje_x,limite,color='red',linestyle='dashed', linewidth=3)\n",
        "\n",
        "\n",
        "tabla = pd.DataFrame(mediciones,eje_x,columns=['Medicion del Dia'])\n",
        "tabla2 = pd.DataFrame(lluvia_acumulada,eje_x,columns=['Acumulado'])\n",
        "tabla3 = pd.concat([tabla,tabla2],axis=1)\n",
        "print(tabla3)\n",
        "print('')\n",
        "\n",
        "\n",
        "\n"
      ],
      "execution_count": 63,
      "outputs": [
        {
          "output_type": "stream",
          "text": [
            "Ingrese la cantidad de mediciones a tomar: 15\n",
            "\n",
            "Ingrese los metros de lluvia del dia 1 : 7\n",
            "Ingrese los metros de lluvia del dia 2 : 5\n",
            "Ingrese los metros de lluvia del dia 3 : 6\n",
            "Ingrese los metros de lluvia del dia 4 : 1\n",
            "Ingrese los metros de lluvia del dia 5 : 3\n",
            "Ingrese los metros de lluvia del dia 6 : 4\n",
            "Ingrese los metros de lluvia del dia 7 : 2\n",
            "Ingrese los metros de lluvia del dia 8 : 5\n",
            "Ingrese los metros de lluvia del dia 9 : 6\n",
            "Ingrese los metros de lluvia del dia 10 : 4\n",
            "Ingrese los metros de lluvia del dia 11 : 3\n",
            "Ingrese los metros de lluvia del dia 12 : 2\n",
            "Ingrese los metros de lluvia del dia 13 : 5\n",
            "Ingrese los metros de lluvia del dia 14 : 1\n",
            "Ingrese los metros de lluvia del dia 15 : 4\n",
            "\n",
            "ALERTA DE CRECIMIENTO PELIGROSO\n",
            "\n",
            "Los metros de lluvia del dia  9 :  6\n",
            "\n",
            "    Medicion del Dia  Acumulado\n",
            "0                  7          7\n",
            "1                  5         12\n",
            "2                  6         18\n",
            "3                  1         19\n",
            "4                  3         22\n",
            "5                  4         26\n",
            "6                  2         28\n",
            "7                  5         33\n",
            "8                  6         39\n",
            "9                  4         43\n",
            "10                 3         46\n",
            "11                 2         48\n",
            "12                 5         53\n",
            "13                 1         54\n",
            "14                 4         58\n",
            "\n"
          ],
          "name": "stdout"
        },
        {
          "output_type": "display_data",
          "data": {
            "image/png": "[encoded data removed]",
            "text/plain": [
              "<Figure size 432x288 with 1 Axes>"
            ]
          },
          "metadata": {
            "tags": [],
            "needs_background": "light"
          }
        }
      ]
    },
    {
      "cell_type": "code",
      "metadata": {
        "id": "wHbP2UB9S60F",
        "colab_type": "code",
        "colab": {}
      },
      "source": [
        ""
      ],
      "execution_count": null,
      "outputs": []
    }
  ]
}